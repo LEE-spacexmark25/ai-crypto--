{
  "nbformat": 4,
  "nbformat_minor": 0,
  "metadata": {
    "colab": {
      "name": "phase2.ipynb",
      "provenance": [],
      "include_colab_link": true
    },
    "kernelspec": {
      "name": "python3",
      "display_name": "Python 3"
    },
    "language_info": {
      "name": "python"
    }
  },
  "cells": [
    {
      "cell_type": "markdown",
      "metadata": {
        "id": "view-in-github",
        "colab_type": "text"
      },
      "source": [
        "<a href=\"https://colab.research.google.com/github/LEE-spacexmark25/ai-crypto--/blob/master/phase2.ipynb\" target=\"_parent\"><img src=\"https://colab.research.google.com/assets/colab-badge.svg\" alt=\"Open In Colab\"/></a>"
      ]
    },
    {
      "cell_type": "code",
      "execution_count": null,
      "metadata": {
        "colab": {
          "resources": {
            "http://localhost:8080/nbextensions/google.colab/files.js": {
              "data": "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",
              "ok": true,
              "headers": [
                [
                  "content-type",
                  "application/javascript"
                ]
              ],
              "status": 200,
              "status_text": ""
            }
          },
          "base_uri": "https://localhost:8080/",
          "height": 74
        },
        "id": "qryxQocmF4Ya",
        "outputId": "06f926c2-f6d8-4718-feea-2a1e7b960d12"
      },
      "outputs": [
        {
          "output_type": "display_data",
          "data": {
            "text/plain": [
              "<IPython.core.display.HTML object>"
            ],
            "text/html": [
              "\n",
              "     <input type=\"file\" id=\"files-ecd5e60e-e0bd-4ca6-87c9-3b1acbfc01c0\" name=\"files[]\" multiple disabled\n",
              "        style=\"border:none\" />\n",
              "     <output id=\"result-ecd5e60e-e0bd-4ca6-87c9-3b1acbfc01c0\">\n",
              "      Upload widget is only available when the cell has been executed in the\n",
              "      current browser session. Please rerun this cell to enable.\n",
              "      </output>\n",
              "      <script src=\"/nbextensions/google.colab/files.js\"></script> "
            ]
          },
          "metadata": {}
        },
        {
          "output_type": "stream",
          "name": "stdout",
          "text": [
            "Saving real.csv to real.csv\n"
          ]
        }
      ],
      "source": [
        "from google.colab import files\n",
        "files.upload()"
      ]
    },
    {
      "cell_type": "markdown",
      "source": [
        "라이브러리 세팅"
      ],
      "metadata": {
        "id": "OZpU00-BNdg2"
      }
    },
    {
      "cell_type": "code",
      "source": [
        "import numpy as np\n",
        "import pandas as pd"
      ],
      "metadata": {
        "id": "I_bdS8ZwKK-Q"
      },
      "execution_count": null,
      "outputs": []
    },
    {
      "cell_type": "code",
      "source": [
        "df_trx = pd.read_csv(\"real.csv\")"
      ],
      "metadata": {
        "id": "A8a3TKjtKSY9"
      },
      "execution_count": null,
      "outputs": []
    },
    {
      "cell_type": "markdown",
      "source": [
        "헤더추가"
      ],
      "metadata": {
        "id": "wpvgR2kdOTDN"
      }
    },
    {
      "cell_type": "code",
      "source": [
        "df_trx.columns = [\"Price\", \"Volume\", \"BuySell(0/1)\", \"Timestamp\"]"
      ],
      "metadata": {
        "id": "GSpsc9vJLV03"
      },
      "execution_count": null,
      "outputs": []
    },
    {
      "cell_type": "markdown",
      "source": [
        "최종 Rawdata"
      ],
      "metadata": {
        "id": "7wBDMPkzOaVm"
      }
    },
    {
      "cell_type": "code",
      "source": [
        "print(df_trx)"
      ],
      "metadata": {
        "colab": {
          "base_uri": "https://localhost:8080/"
        },
        "id": "Ope1Bt_4NclN",
        "outputId": "353a8a00-2030-4cb7-a19a-31947448c23d"
      },
      "execution_count": null,
      "outputs": [
        {
          "output_type": "stream",
          "name": "stdout",
          "text": [
            "            Price  Volume  BuySell(0/1)            Timestamp\n",
            "0        38802000  0.0514             0  2022-05-20 14:15:50\n",
            "1        38801000  0.4240             0  2022-05-20 14:15:50\n",
            "2        38800000  0.0003             0  2022-05-20 14:15:50\n",
            "3        38798000  0.0542             0  2022-05-20 14:15:50\n",
            "4        38821000  0.0323             1  2022-05-20 14:15:50\n",
            "...           ...     ...           ...                  ...\n",
            "1624714  38592000  0.5173             1  2022-05-22 14:47:49\n",
            "1624715  38593000  0.2048             1  2022-05-22 14:47:49\n",
            "1624716  38594000  0.2591             1  2022-05-22 14:47:49\n",
            "1624717  38595000  0.4900             1  2022-05-22 14:47:49\n",
            "1624718  38597000  0.0316             1  2022-05-22 14:47:49\n",
            "\n",
            "[1624719 rows x 4 columns]\n"
          ]
        }
      ]
    },
    {
      "cell_type": "code",
      "source": [
        "##매도호가(Sell) 한 개가 비어있음. 추가\n",
        "top_row = pd.DataFrame({'Price':[38803000],'Volume':[0.0427],'BuySell(0/1)':[0],'Timestamp':['2022-05-20 14:15:50']})\n",
        "# Concat with old DataFrame and reset the Index.\n",
        "df_trx = pd.concat([top_row, df_trx]).reset_index(drop = True)"
      ],
      "metadata": {
        "id": "gzMxvTiNRkAH"
      },
      "execution_count": null,
      "outputs": []
    },
    {
      "cell_type": "markdown",
      "source": [
        "15:15:50의 데이터가 몇 번째에 위치한지 알아보기"
      ],
      "metadata": {
        "id": "N6cR7pIkOkbI"
      }
    },
    {
      "cell_type": "code",
      "source": [
        "print(df_trx[df_trx['Timestamp'] == '2022-05-20 15:15:50'].index.values)"
      ],
      "metadata": {
        "colab": {
          "base_uri": "https://localhost:8080/"
        },
        "id": "9EWrgqJANWVP",
        "outputId": "d38a4958-230f-4a88-c9ee-8f6a6f353e41"
      },
      "execution_count": null,
      "outputs": [
        {
          "output_type": "stream",
          "name": "stdout",
          "text": [
            "[33350 33351 33352 33353 33354 33355 33356 33357 33358 33359]\n"
          ]
        }
      ]
    },
    {
      "cell_type": "markdown",
      "source": [
        "33359번째까지의 데이터만 반환하도록 Dataframe Slicing"
      ],
      "metadata": {
        "id": "y_W6pr9hOrhh"
      }
    },
    {
      "cell_type": "code",
      "source": [
        "df_trx = df_trx.iloc[:33360,:]"
      ],
      "metadata": {
        "id": "p7OKOikeOvme"
      },
      "execution_count": null,
      "outputs": []
    },
    {
      "cell_type": "code",
      "source": [
        "print(df_trx)"
      ],
      "metadata": {
        "colab": {
          "base_uri": "https://localhost:8080/"
        },
        "id": "LYHuf4XWO95g",
        "outputId": "c639aed4-ca3c-49f4-878d-53407ec7dedd"
      },
      "execution_count": null,
      "outputs": [
        {
          "output_type": "stream",
          "name": "stdout",
          "text": [
            "          Price  Volume  BuySell(0/1)            Timestamp\n",
            "0      38803000  0.0427             0  2022-05-20 14:15:50\n",
            "1      38802000  0.0514             0  2022-05-20 14:15:50\n",
            "2      38801000  0.4240             0  2022-05-20 14:15:50\n",
            "3      38800000  0.0003             0  2022-05-20 14:15:50\n",
            "4      38798000  0.0542             0  2022-05-20 14:15:50\n",
            "...         ...     ...           ...                  ...\n",
            "33355  37965000  0.2670             1  2022-05-20 15:15:50\n",
            "33356  37967000  0.1472             1  2022-05-20 15:15:50\n",
            "33357  37969000  0.3934             1  2022-05-20 15:15:50\n",
            "33358  37971000  0.1406             1  2022-05-20 15:15:50\n",
            "33359  37973000  0.0488             1  2022-05-20 15:15:50\n",
            "\n",
            "[33360 rows x 4 columns]\n"
          ]
        }
      ]
    },
    {
      "cell_type": "markdown",
      "source": [
        "같은 Timestamp들만 모아보기"
      ],
      "metadata": {
        "id": "hpiL6CLCPNRU"
      }
    },
    {
      "cell_type": "code",
      "source": [
        "time_stamps = np.unique(df_trx['Timestamp'])"
      ],
      "metadata": {
        "id": "tNheQS1LPIOa"
      },
      "execution_count": null,
      "outputs": []
    },
    {
      "cell_type": "code",
      "source": [
        "print(time_stamps)"
      ],
      "metadata": {
        "colab": {
          "base_uri": "https://localhost:8080/"
        },
        "id": "9K4b5J7ePgFX",
        "outputId": "d5b96d61-6297-4f84-ea40-fd288996be4a"
      },
      "execution_count": null,
      "outputs": [
        {
          "output_type": "stream",
          "name": "stdout",
          "text": [
            "['2022-05-20 14:15:50' '2022-05-20 14:15:51' '2022-05-20 14:15:52' ...\n",
            " '2022-05-20 15:15:48' '2022-05-20 15:15:49' '2022-05-20 15:15:50']\n"
          ]
        }
      ]
    },
    {
      "cell_type": "markdown",
      "source": [
        "Dataframe에서 같은 Timestamp의 data만 가져오기\n",
        "\n",
        "\n",
        "*   예시로 14:15:52 인 것만 가져옴\n",
        "\n"
      ],
      "metadata": {
        "id": "nvYAsvf7PkNS"
      }
    },
    {
      "cell_type": "code",
      "source": [
        "df_same = df_trx[df_trx['Timestamp'] == time_stamps[2]]"
      ],
      "metadata": {
        "id": "0eWBZsiiPjPb"
      },
      "execution_count": null,
      "outputs": []
    },
    {
      "cell_type": "code",
      "source": [
        "print(df_same)"
      ],
      "metadata": {
        "colab": {
          "base_uri": "https://localhost:8080/"
        },
        "id": "YNszmlSjQVa-",
        "outputId": "fea53fd3-cee2-4461-b834-7c372f66b129"
      },
      "execution_count": null,
      "outputs": [
        {
          "output_type": "stream",
          "name": "stdout",
          "text": [
            "       Price  Volume  BuySell(0/1)            Timestamp\n",
            "20  38815000  0.0010             0  2022-05-20 14:15:52\n",
            "21  38807000  0.0526             0  2022-05-20 14:15:52\n",
            "22  38803000  0.0870             0  2022-05-20 14:15:52\n",
            "23  38802000  0.0514             0  2022-05-20 14:15:52\n",
            "24  38801000  0.4240             0  2022-05-20 14:15:52\n",
            "25  38821000  0.0323             1  2022-05-20 14:15:52\n",
            "26  38822000  0.4036             1  2022-05-20 14:15:52\n",
            "27  38824000  0.0553             1  2022-05-20 14:15:52\n",
            "28  38825000  0.0537             1  2022-05-20 14:15:52\n",
            "29  38826000  0.0317             1  2022-05-20 14:15:52\n"
          ]
        }
      ]
    },
    {
      "cell_type": "markdown",
      "source": [
        "Midprice : 0의 최대가격과 1의 최소가격의 차이\n",
        "\n",
        "\n",
        "1.   원래 정상적으로 데이터를 받아오면 한 Timestamp에 Buy 5개, Sell 5개 씩 총 10개의 데이터가 찍혀야 함. \n",
        "2.   그런데 혹시 몰라 10개를 다 못 받아오는 경우도 있을 것 같아서 별도로 0에서의 최대와 1에서의 최소를 찾아서 가져오는 과정을 거침\n",
        "\n"
      ],
      "metadata": {
        "id": "ByeYbfC8Qu7b"
      }
    },
    {
      "cell_type": "markdown",
      "source": [
        "매수(0) 최대"
      ],
      "metadata": {
        "id": "JRp2wFJPTxrg"
      }
    },
    {
      "cell_type": "code",
      "source": [
        "bid_max = df_same.loc[df_same['BuySell(0/1)'] == 0, 'Price'].max()"
      ],
      "metadata": {
        "id": "_wgk4VLwV8j1"
      },
      "execution_count": null,
      "outputs": []
    },
    {
      "cell_type": "markdown",
      "source": [
        "매도(1) 최소"
      ],
      "metadata": {
        "id": "B6GdbRtGW_B5"
      }
    },
    {
      "cell_type": "code",
      "source": [
        "ask_min = df_same.loc[df_same['BuySell(0/1)'] == 1, 'Price'].min()"
      ],
      "metadata": {
        "id": "wVeVKQ7mW-Yw"
      },
      "execution_count": null,
      "outputs": []
    },
    {
      "cell_type": "markdown",
      "source": [
        "Midprice 구하기"
      ],
      "metadata": {
        "id": "TGPJ-_XcXFaP"
      }
    },
    {
      "cell_type": "code",
      "source": [
        "mid_price = (bid_max + ask_min) * 0.5"
      ],
      "metadata": {
        "id": "ka33QwUVTzON"
      },
      "execution_count": null,
      "outputs": []
    },
    {
      "cell_type": "markdown",
      "source": [
        "Midprice 결과"
      ],
      "metadata": {
        "id": "Vi25OydPXS9d"
      }
    },
    {
      "cell_type": "code",
      "source": [
        "print(mid_price)"
      ],
      "metadata": {
        "colab": {
          "base_uri": "https://localhost:8080/"
        },
        "id": "oRfNlV7UXPdP",
        "outputId": "7d0e9d98-440e-4d6f-fccd-bbefc553aaa7"
      },
      "execution_count": null,
      "outputs": [
        {
          "output_type": "stream",
          "name": "stdout",
          "text": [
            "37959000.0\n"
          ]
        }
      ]
    },
    {
      "cell_type": "markdown",
      "source": [
        "Bookprice 구하기\n",
        "\n",
        "1.   Bookprice란?\n",
        "\n",
        "    *   \bmidprice의 경우 최상단의 매수가격과 최하단의 매도가격만 보기 때문에 그 밖의       Level에서 일어나는 현상(그 밑에 가격에서 대량 매수/매도 주문을 넣는다던지)의 현상을 포착 불가\n",
        "\n",
        "    *   그 현상을 해결하기 위해서 매수/매도의 양 5단계 가격과 주문대기량을 모두 반영할 수 있게끔 해줄 필요가 있음.\n",
        "\n",
        "\n",
        "2.   How?\n",
        "\n",
        "    *   각 매수/매도 level(각각 총 5단계로 이루어진)의 주문 대기량에 0.2제곱씩을 해준다음 모두 더해줘서 마치 주문 대기량의 지수평균을 낸 것 처럼 평균 매수/매도 주문 대기량을 산출\n",
        "\n",
        "    *   각 매수/매도 level(각각 총 5단계로 이루어진)의 가격에 0.2제곱씩을 해준다음 모두 더해줘서 마치 주문 대기량의 지수평균을 낸 것 처럼 평균 매수/매도 가격을 산출\n",
        "\n",
        "    *  이후 슬라이드 처럼 교차로 곱을 해주는 식을 적용하여 Bookprice 산출 \n",
        "\n",
        "\n",
        "\n",
        "\n",
        "\n",
        "\n",
        "\n"
      ],
      "metadata": {
        "id": "cgNlNzK4YGK6"
      }
    },
    {
      "cell_type": "markdown",
      "source": [
        "매도 5단계 수량 가져오기"
      ],
      "metadata": {
        "id": "sfw9_co5b6SU"
      }
    },
    {
      "cell_type": "code",
      "source": [
        "bid_volumes = df_same[df_same['BuySell(0/1)'] == 0]['Volume'].values\n",
        "print(bid_volumes)"
      ],
      "metadata": {
        "colab": {
          "base_uri": "https://localhost:8080/"
        },
        "id": "ODvjLco8XXeR",
        "outputId": "35ab031e-6f3e-4fbe-dc8e-5e7e41936355"
      },
      "execution_count": null,
      "outputs": [
        {
          "output_type": "stream",
          "name": "stdout",
          "text": [
            "[0.0052 0.0304 0.0576 0.0524 0.0309]\n"
          ]
        }
      ]
    },
    {
      "cell_type": "markdown",
      "source": [
        "매수 5단계 수량 가져오기"
      ],
      "metadata": {
        "id": "d9ehIjCZb9yy"
      }
    },
    {
      "cell_type": "code",
      "source": [
        "ask_volumes = df_same[df_same['BuySell(0/1)'] == 1]['Volume'].values\n",
        "print(ask_volumes)"
      ],
      "metadata": {
        "colab": {
          "base_uri": "https://localhost:8080/"
        },
        "id": "-uEQF3Xnb59e",
        "outputId": "9d6ecb50-073e-40b7-b838-33e25750c9b1"
      },
      "execution_count": null,
      "outputs": [
        {
          "output_type": "stream",
          "name": "stdout",
          "text": [
            "[0.267  0.1472 0.3934 0.1406 0.0488]\n"
          ]
        }
      ]
    },
    {
      "cell_type": "markdown",
      "source": [
        "가중평균(bidQty,askQty) 구하기"
      ],
      "metadata": {
        "id": "W8eXV6gpcBh3"
      }
    },
    {
      "cell_type": "code",
      "source": [
        "import math\n",
        "\n",
        "ask_qty_list = list()\n",
        "for volume in ask_volumes:\n",
        "  ask_qty_list.append(math.pow(volume, 0.2))\n",
        "\n",
        "ask_qty = sum(ask_qty_list)\n",
        "print(ask_qty)\n",
        "\n",
        "bid_qty_list = list()\n",
        "for volume in bid_volumes:\n",
        "  bid_qty_list.append(math.pow(volume, 0.2))\n",
        "\n",
        "bid_qty = sum(bid_qty_list)\n",
        "print(bid_qty)\n",
        "\n"
      ],
      "metadata": {
        "colab": {
          "base_uri": "https://localhost:8080/"
        },
        "id": "-9e32gpdcDVf",
        "outputId": "b34e1eaf-e90a-4aaf-b55b-c973518eee83"
      },
      "execution_count": null,
      "outputs": [
        {
          "output_type": "stream",
          "name": "stdout",
          "text": [
            "3.501438826693226\n",
            "2.46492837817487\n"
          ]
        }
      ]
    },
    {
      "cell_type": "markdown",
      "source": [
        "매수 5단계 가격 가져오기"
      ],
      "metadata": {
        "id": "iDOUaUh1dO0c"
      }
    },
    {
      "cell_type": "code",
      "source": [
        "bid_prices = df_same[df_same['BuySell(0/1)'] == 0]['Price'].values\n",
        "print(bid_prices)"
      ],
      "metadata": {
        "colab": {
          "base_uri": "https://localhost:8080/"
        },
        "id": "0h6oMUz_dNKU",
        "outputId": "f127f2b2-0c0e-499f-86b0-23127f8c1a8f"
      },
      "execution_count": null,
      "outputs": [
        {
          "output_type": "stream",
          "name": "stdout",
          "text": [
            "[37953000 37949000 37947000 37946000 37941000]\n"
          ]
        }
      ]
    },
    {
      "cell_type": "markdown",
      "source": [
        "매도 5단계 가격 가져오기"
      ],
      "metadata": {
        "id": "WPz4h7nGdTTz"
      }
    },
    {
      "cell_type": "code",
      "source": [
        "ask_prices = df_same[df_same['BuySell(0/1)'] == 1]['Price'].values\n",
        "print(ask_prices)"
      ],
      "metadata": {
        "colab": {
          "base_uri": "https://localhost:8080/"
        },
        "id": "edz9WzvpdVp0",
        "outputId": "2e6556a3-834f-4f0a-cf92-32930f5ecb99"
      },
      "execution_count": null,
      "outputs": [
        {
          "output_type": "stream",
          "name": "stdout",
          "text": [
            "[37965000 37967000 37969000 37971000 37973000]\n"
          ]
        }
      ]
    },
    {
      "cell_type": "markdown",
      "source": [
        "가중평균(bidPx, askPx) 구하기"
      ],
      "metadata": {
        "id": "qyUouJBtdh2T"
      }
    },
    {
      "cell_type": "code",
      "source": [
        "print(bid_qty_list)"
      ],
      "metadata": {
        "colab": {
          "base_uri": "https://localhost:8080/"
        },
        "id": "nrJJlyEyhQoG",
        "outputId": "d900e744-5761-4288-db9a-9fb4ae7b74cd"
      },
      "execution_count": null,
      "outputs": [
        {
          "output_type": "stream",
          "name": "stdout",
          "text": [
            "[0.34930167541811463, 0.49724991404242036, 0.5650469000989533, 0.5544549402002757, 0.4988749484151062]\n"
          ]
        }
      ]
    },
    {
      "cell_type": "code",
      "source": [
        "print(ask_qty_list)"
      ],
      "metadata": {
        "colab": {
          "base_uri": "https://localhost:8080/"
        },
        "id": "6HSkNmYahS3l",
        "outputId": "55e4ce01-d857-42d1-d14f-b4115c9c7745"
      },
      "execution_count": null,
      "outputs": [
        {
          "output_type": "stream",
          "name": "stdout",
          "text": [
            "[0.7678957293584956, 0.681681584856692, 0.8297874671920346, 0.6754560004848926, 0.5466180448011114]\n"
          ]
        }
      ]
    },
    {
      "cell_type": "code",
      "source": [
        "\n",
        "\n",
        "bid_px = sum([a * b for a, b in zip(bid_prices, bid_qty_list)])\n",
        "print(bid_px)\n",
        "\n",
        "ask_px = sum([a * b for a, b in zip(ask_prices, ask_qty_list)])\n",
        "print(ask_px)\n",
        "'''\n",
        "for price in sell_prices:\n",
        "  ask_px += math.pow(price, 0.2)\n",
        "\n",
        "print(ask_px)\n",
        "\n",
        "bid_px = 0\n",
        "for price in buy_prices:\n",
        "  bid_px += math.pow(price, 0.2)\n",
        "\n",
        "print(bid_px)\n",
        "'''"
      ],
      "metadata": {
        "colab": {
          "base_uri": "https://localhost:8080/",
          "height": 89
        },
        "id": "pl_zozDEdm1k",
        "outputId": "3c0ce44b-176c-43dc-c1c4-e4bff4770ed0"
      },
      "execution_count": null,
      "outputs": [
        {
          "output_type": "stream",
          "name": "stdout",
          "text": [
            "93536179.7718517\n",
            "132945233.24880813\n"
          ]
        },
        {
          "output_type": "execute_result",
          "data": {
            "text/plain": [
              "'\\nfor price in sell_prices:\\n  ask_px += math.pow(price, 0.2)\\n\\nprint(ask_px)\\n\\nbid_px = 0\\nfor price in buy_prices:\\n  bid_px += math.pow(price, 0.2)\\n\\nprint(bid_px)\\n'"
            ],
            "application/vnd.google.colaboratory.intrinsic+json": {
              "type": "string"
            }
          },
          "metadata": {},
          "execution_count": 161
        }
      ]
    },
    {
      "cell_type": "markdown",
      "source": [
        "Bookprice 구하기\n",
        "\n"
      ],
      "metadata": {
        "id": "McK6d7l_eckc"
      }
    },
    {
      "cell_type": "markdown",
      "source": [
        ""
      ],
      "metadata": {
        "id": "Gb6aGJkmdVIv"
      }
    },
    {
      "cell_type": "code",
      "source": [
        "book_price = (((ask_qty*bid_px)/bid_qty) + ((bid_qty*ask_px)/ask_qty))/(bid_qty+ask_qty)\n",
        "print(book_price)"
      ],
      "metadata": {
        "colab": {
          "base_uri": "https://localhost:8080/"
        },
        "id": "g7jH25xde4ls",
        "outputId": "749a3420-2d91-4c89-b0a1-ccd9d5c07b16"
      },
      "execution_count": null,
      "outputs": [
        {
          "output_type": "stream",
          "name": "stdout",
          "text": [
            "37955874.216060676\n"
          ]
        }
      ]
    },
    {
      "cell_type": "markdown",
      "source": [
        "Book imbalance 구하기(interval은 1)\n",
        "\n"
      ],
      "metadata": {
        "id": "PQ90qoIHiM1k"
      }
    },
    {
      "cell_type": "code",
      "source": [
        "book_imbalance = book_price - mid_price\n",
        "print(book_imbalance)"
      ],
      "metadata": {
        "colab": {
          "base_uri": "https://localhost:8080/"
        },
        "id": "MXCr32KpiMPR",
        "outputId": "9a72f0c4-73bf-4c66-eb6f-29d4e2ce1bc7"
      },
      "execution_count": null,
      "outputs": [
        {
          "output_type": "stream",
          "name": "stdout",
          "text": [
            "-3125.7839393243194\n"
          ]
        }
      ]
    },
    {
      "cell_type": "markdown",
      "source": [
        "데이터 전체에 대한 Book_imbalance 구하기\n",
        "\n",
        "\n",
        "*   앞선 예시에 for문만 씌워주면 됨\n",
        "\n"
      ],
      "metadata": {
        "id": "279TyKKikbXW"
      }
    },
    {
      "cell_type": "code",
      "source": [
        "#계산 결과를 담을 최종 Dataframe\n",
        "df_result = pd.DataFrame(columns = ['Delta', 'Imbalance', 'midprice', 'Timestamp'])\n",
        "\n",
        "#loop 밖에서 초기화\n",
        "cur_ask_qty = 0\n",
        "cur_bid_qty = 0\n",
        "\n",
        "cur_ask_top = 0\n",
        "cur_bid_top = 0\n",
        "\n",
        "prev_ask_qty = 0\n",
        "prev_bid_qty = 0\n",
        "\n",
        "prev_ask_top = 0\n",
        "prev_bid_top = 0\n",
        "\n",
        "bid_side_add = 0\n",
        "bid_side_count = 0\n",
        "bid_side_delete = 0\n",
        "bid_side_flip = 0\n",
        "bid_side_trade = 0\n",
        "\n",
        "ask_side_add = 0\n",
        "ask_side_count = 0\n",
        "ask_side_delete = 0\n",
        "ask_side_flip = 0\n",
        "ask_side_trade = 0\n",
        "    ##loop 밖에서 초기화\n",
        "\n",
        "\n",
        "\n",
        "\n",
        "for i in range(0, len(time_stamps)):\n",
        "  current_time = time_stamps[i]\n",
        "  df_same = df_trx[df_trx['Timestamp'] == current_time]\n",
        "\n",
        "  bid_max = df_same.loc[df_same['BuySell(0/1)'] == 0, 'Price'].max()\n",
        "  ask_min = df_same.loc[df_same['BuySell(0/1)'] == 1, 'Price'].min()\n",
        "  mid_price = (ask_min + bid_max) * 0.5\n",
        "\n",
        "  bid_volumes = df_same[df_same['BuySell(0/1)'] == 0]['Volume'].values\n",
        "  ask_volumes = df_same[df_same['BuySell(0/1)'] == 1]['Volume'].values\n",
        "\n",
        "  ask_qty_list = list()\n",
        "  for volume in ask_volumes:\n",
        "    ask_qty_list.append(math.pow(volume, 0.2))\n",
        "\n",
        "  ask_qty = sum(ask_qty_list)\n",
        "\n",
        "\n",
        "  bid_qty_list = list()\n",
        "  for volume in bid_volumes:\n",
        "    bid_qty_list.append(math.pow(volume, 0.2))\n",
        "\n",
        "  bid_qty = sum(bid_qty_list)\n",
        "\n",
        "  bid_prices = df_same[df_same['BuySell(0/1)'] == 0]['Price'].values\n",
        "  ask_prices = df_same[df_same['BuySell(0/1)'] == 1]['Price'].values\n",
        "\n",
        "  bid_px = sum([a * b for a, b in zip(bid_prices, bid_qty_list)])\n",
        "\n",
        "\n",
        "  ask_px = sum([a * b for a, b in zip(ask_prices, ask_qty_list)])\n",
        "\n",
        "\n",
        "  book_price = (((ask_qty*bid_px)/bid_qty) + ((bid_qty*ask_px)/ask_qty))/(bid_qty+ask_qty)\n",
        "  book_imbalance = book_price - mid_price\n",
        "\n",
        "  book_delta = 0\n",
        "\n",
        "  if(i >= 1):\n",
        "\n",
        "    cur_bid_qty = bid_qty\n",
        "    cur_ask_qty = ask_qty\n",
        "    cur_bid_top = bid_max\n",
        "    cur_ask_top = ask_min\n",
        "\n",
        "    if cur_bid_qty > prev_bid_qty:\n",
        "      bid_side_add += 1\n",
        "      bid_side_count += 1\n",
        "\n",
        "    if cur_bid_qty < prev_bid_qty:\n",
        "      bid_side_delete += 1\n",
        "      bid_side_count += 1\n",
        "\n",
        "    if cur_ask_qty > prev_ask_qty:\n",
        "      ask_side_add += 1\n",
        "      ask_side_count += 1\n",
        "\n",
        "    if cur_ask_qty < prev_ask_qty:\n",
        "      ask_side_delete += 1\n",
        "      ask_side_count += 1\n",
        "\n",
        "    if cur_bid_top < prev_bid_top:\n",
        "      bid_side_flip += 1\n",
        "      bid_side_count += 1\n",
        "\n",
        "    if cur_ask_top > prev_ask_top:\n",
        "      ask_side_flip += 1\n",
        "      ask_side_count += 1\n",
        "\n",
        "    ##len(0인것)\n",
        "    bid_side_trade += 5\n",
        "    bid_side_count += 5\n",
        "    ##len(1인것)\n",
        "    ask_side_trade += 5\n",
        "    ask_side_count += 5\n",
        "\n",
        "    bid_book_v = (-bid_side_delete + bid_side_add - bid_side_flip)/(math.pow(bid_side_count, 0.2))\n",
        "    ask_book_v = (-ask_side_delete + ask_side_add - ask_side_flip)/(math.pow(ask_side_count, 0.2))\n",
        "    trade_v = (ask_side_trade/math.pow(ask_side_count,0.2))-(bid_side_trade/math.pow(bid_side_count,0.2))\n",
        "\n",
        "    book_delta = bid_book_v + ask_book_v + trade_v\n",
        "\n",
        "    decay = math.exp(-1)\n",
        "\n",
        "    bid_side_add *= decay\n",
        "    bid_side_count *= decay\n",
        "    bid_side_delete *= decay\n",
        "    bid_side_flip *= decay\n",
        "    bid_side_trade *= decay\n",
        "\n",
        "    ask_side_add *= decay\n",
        "    ask_side_count *= decay\n",
        "    ask_side_delete *= decay\n",
        "    ask_side_flip *= decay\n",
        "    ask_side_trade *= decay\n",
        "\n",
        "    prev_ask_qty = cur_ask_qty\n",
        "    prev_bid_qty = cur_bid_qty\n",
        "\n",
        "    prev_ask_top = cur_ask_top\n",
        "    prev_bid_top = cur_bid_top\n",
        "\n",
        "  new_row = {'Delta':book_delta, 'Imbalance':book_imbalance, 'midprice':mid_price, 'Timestamp':current_time}\n",
        "  df_result = df_result.append(new_row, ignore_index=True)\n",
        "\n"
      ],
      "metadata": {
        "id": "8rLiSkgUkkJV"
      },
      "execution_count": null,
      "outputs": []
    },
    {
      "cell_type": "markdown",
      "source": [
        "최종 결과"
      ],
      "metadata": {
        "id": "fFvXYpDomdCv"
      }
    },
    {
      "cell_type": "code",
      "source": [
        "print(df_result)"
      ],
      "metadata": {
        "colab": {
          "base_uri": "https://localhost:8080/"
        },
        "id": "TQoNVIAtme-K",
        "outputId": "8f58a7a6-d86a-4dd6-9142-eb41b05d6a4e"
      },
      "execution_count": null,
      "outputs": [
        {
          "output_type": "stream",
          "name": "stdout",
          "text": [
            "         Delta    Imbalance    midprice            Timestamp\n",
            "0            0 -1065.260552  38812000.0  2022-05-20 14:15:50\n",
            "1     0.592746 -5731.375562  38818000.0  2022-05-20 14:15:51\n",
            "2     0.208005 -4479.932592  38818000.0  2022-05-20 14:15:52\n",
            "3    -0.986511 -1260.235712  38814000.0  2022-05-20 14:15:53\n",
            "4     0.383257  -523.569277  38811500.0  2022-05-20 14:15:54\n",
            "...        ...          ...         ...                  ...\n",
            "3331 -1.184283 -2036.522517  37958000.0  2022-05-20 15:15:46\n",
            "3332 -0.450157 -2036.522517  37958000.0  2022-05-20 15:15:47\n",
            "3333 -0.385302 -3013.636629  37959000.0  2022-05-20 15:15:48\n",
            "3334  0.373247 -2918.026958  37959000.0  2022-05-20 15:15:49\n",
            "3335 -0.386088 -3125.783939  37959000.0  2022-05-20 15:15:50\n",
            "\n",
            "[3336 rows x 4 columns]\n"
          ]
        }
      ]
    },
    {
      "cell_type": "markdown",
      "source": [
        "Book delta 구하기"
      ],
      "metadata": {
        "id": "qJOW1Sy3jTKb"
      }
    },
    {
      "cell_type": "markdown",
      "source": [
        "슬라이드 식 그대로 옮겼음"
      ],
      "metadata": {
        "id": "7qrmHvkvkaXB"
      }
    },
    {
      "cell_type": "code",
      "source": [
        "#loop 밖에서 초기화\n",
        "cur_ask_qty = 0\n",
        "cur_bid_qty = 0\n",
        "\n",
        "cur_ask_top = 0\n",
        "cur_bid_top = 0\n",
        "\n",
        "prev_ask_qty = 0\n",
        "prev_bid_qty = 0\n",
        "\n",
        "prev_ask_top = 0\n",
        "prev_bid_top = 0\n",
        "\n",
        "bid_side_add = 0\n",
        "bid_side_count = 0\n",
        "bid_side_delete = 0\n",
        "bid_side_flip = 0\n",
        "bid_side_trade = 0\n",
        "\n",
        "ask_side_add = 0\n",
        "ask_side_count = 0\n",
        "ask_side_delete = 0\n",
        "ask_side_flip = 0\n",
        "ask_side_trade = 0\n",
        "##loop 밖에서 초기화\n",
        "\n",
        "if cur_bid_qty > prev_bid_qty:\n",
        "  bid_side_add += 1\n",
        "  bid_side_count += 1\n",
        "\n",
        "if cur_bid_qty < prev_bid_qty:\n",
        "  bid_side_delete += 1\n",
        "  bid_side_count += 1\n",
        "\n",
        "if cur_ask_qty > prev_ask_qty:\n",
        "  ask_side_add += 1\n",
        "  ask_side_count += 1\n",
        "\n",
        "if cur_ask_qty < prev_ask_qty:\n",
        "  ask_side_delete += 1\n",
        "  ask_side_count += 1\n",
        "\n",
        "if cur_bid_top < prev_bid_top:\n",
        "  bid_side_flip += 1\n",
        "  bid_side_count += 1\n",
        "\n",
        "if cur_ask_top > prev_ask_top:\n",
        "  ask_side_flip += 1\n",
        "  ask_side_count += 1\n",
        "\n",
        "##len(0인것)\n",
        "bid_side_trade += 5\n",
        "bid_side_count += 5\n",
        "##len(1인것)\n",
        "ask_side_trade += 5\n",
        "ask_side_count += 5\n",
        "\n",
        "bid_book_v = (-bid_side_delete + bid_side_add - bid_side_flip)/(math.pow(bid_side_count, 0.2))\n",
        "ask_book_v = (-ask_side_delete + ask_side_add - ask_side_flip)/(math.pow(ask_side_count, 0.2))\n",
        "trade_v = (ask_side_trade/math.pow(ask_side_count,0.2))-(bid_side_trade/math.pow(bid_side_count,0.2))\n",
        "\n",
        "book_delta = bid_book_v + ask_book_v + trade_v\n",
        "\n",
        "decay = math.exp(-1)\n",
        "\n",
        "bid_side_add *= decay\n",
        "bid_side_count *= decay\n",
        "bid_side_delete *= decay\n",
        "bid_side_flip *= decay\n",
        "bid_side_trade *= decay\n",
        "\n",
        "ask_side_add *= decay\n",
        "ask_side_count *= decay\n",
        "ask_side_delete *= decay\n",
        "ask_side_flip *= decay\n",
        "ask_side_trade *= decay\n",
        "\n",
        "prev_ask_qty = cur_ask_qty\n",
        "prev_bid_qty = cur_bid_qty\n",
        "\n",
        "prev_ask_top = cur_ask_top\n",
        "prev_bid_top = cur_bid_top\n",
        "\n"
      ],
      "metadata": {
        "colab": {
          "base_uri": "https://localhost:8080/",
          "height": 241
        },
        "id": "FN6Lsgk4kZ2_",
        "outputId": "b6b944c7-6f48-41fb-f9a1-8811ca6fd164"
      },
      "execution_count": null,
      "outputs": [
        {
          "output_type": "error",
          "ename": "ZeroDivisionError",
          "evalue": "ignored",
          "traceback": [
            "\u001b[0;31m---------------------------------------------------------------------------\u001b[0m",
            "\u001b[0;31mZeroDivisionError\u001b[0m                         Traceback (most recent call last)",
            "\u001b[0;32m<ipython-input-125-9cf6631c216f>\u001b[0m in \u001b[0;36m<module>\u001b[0;34m()\u001b[0m\n\u001b[1;32m     55\u001b[0m \u001b[0;34m\u001b[0m\u001b[0m\n\u001b[1;32m     56\u001b[0m \u001b[0mbid_book_v\u001b[0m \u001b[0;34m=\u001b[0m \u001b[0;34m(\u001b[0m\u001b[0;34m-\u001b[0m\u001b[0mbid_side_delete\u001b[0m \u001b[0;34m+\u001b[0m \u001b[0mbid_side_add\u001b[0m \u001b[0;34m-\u001b[0m \u001b[0mbid_side_flip\u001b[0m\u001b[0;34m)\u001b[0m\u001b[0;34m/\u001b[0m\u001b[0;34m(\u001b[0m\u001b[0mmath\u001b[0m\u001b[0;34m.\u001b[0m\u001b[0mpow\u001b[0m\u001b[0;34m(\u001b[0m\u001b[0mbid_side_count\u001b[0m\u001b[0;34m,\u001b[0m \u001b[0;36m0.2\u001b[0m\u001b[0;34m)\u001b[0m\u001b[0;34m)\u001b[0m\u001b[0;34m\u001b[0m\u001b[0;34m\u001b[0m\u001b[0m\n\u001b[0;32m---> 57\u001b[0;31m \u001b[0mask_book_v\u001b[0m \u001b[0;34m=\u001b[0m \u001b[0;34m(\u001b[0m\u001b[0;34m-\u001b[0m\u001b[0mask_side_delete\u001b[0m \u001b[0;34m+\u001b[0m \u001b[0mask_side_add\u001b[0m \u001b[0;34m-\u001b[0m \u001b[0mask_side_flip\u001b[0m\u001b[0;34m)\u001b[0m\u001b[0;34m/\u001b[0m\u001b[0;34m(\u001b[0m\u001b[0mmath\u001b[0m\u001b[0;34m.\u001b[0m\u001b[0mpow\u001b[0m\u001b[0;34m(\u001b[0m\u001b[0mask_side_count\u001b[0m\u001b[0;34m,\u001b[0m \u001b[0;36m0.2\u001b[0m\u001b[0;34m)\u001b[0m\u001b[0;34m)\u001b[0m\u001b[0;34m\u001b[0m\u001b[0;34m\u001b[0m\u001b[0m\n\u001b[0m\u001b[1;32m     58\u001b[0m \u001b[0mtrade_v\u001b[0m \u001b[0;34m=\u001b[0m \u001b[0;34m(\u001b[0m\u001b[0mask_side_trade\u001b[0m\u001b[0;34m/\u001b[0m\u001b[0mmath\u001b[0m\u001b[0;34m.\u001b[0m\u001b[0mpow\u001b[0m\u001b[0;34m(\u001b[0m\u001b[0mask_side_count\u001b[0m\u001b[0;34m,\u001b[0m\u001b[0;36m0.2\u001b[0m\u001b[0;34m)\u001b[0m\u001b[0;34m)\u001b[0m\u001b[0;34m-\u001b[0m\u001b[0;34m(\u001b[0m\u001b[0mbid_side_trade\u001b[0m\u001b[0;34m/\u001b[0m\u001b[0mmath\u001b[0m\u001b[0;34m.\u001b[0m\u001b[0mpow\u001b[0m\u001b[0;34m(\u001b[0m\u001b[0mbid_side_count\u001b[0m\u001b[0;34m,\u001b[0m\u001b[0;36m0.2\u001b[0m\u001b[0;34m)\u001b[0m\u001b[0;34m)\u001b[0m\u001b[0;34m\u001b[0m\u001b[0;34m\u001b[0m\u001b[0m\n\u001b[1;32m     59\u001b[0m \u001b[0;34m\u001b[0m\u001b[0m\n",
            "\u001b[0;31mZeroDivisionError\u001b[0m: float division by zero"
          ]
        }
      ]
    },
    {
      "cell_type": "code",
      "source": [
        ""
      ],
      "metadata": {
        "id": "47fpgFFS2Izu"
      },
      "execution_count": null,
      "outputs": []
    }
  ]
}